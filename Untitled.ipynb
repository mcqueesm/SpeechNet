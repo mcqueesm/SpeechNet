{
 "cells": [
  {
   "cell_type": "code",
   "execution_count": 36,
   "metadata": {},
   "outputs": [
    {
     "name": "stdout",
     "output_type": "stream",
     "text": [
      "Empty DataFrame\n",
      "Columns: [label, label_id, user_id, wav_file]\n",
      "Index: []\n"
     ]
    },
    {
     "data": {
      "text/plain": [
       "\"\\ndsGen.apply_train_test_split(test_size=0.3, random_state=2018)\\ndsGen.apply_train_val_split(val_size=0.2, random_state=2018)\\n\\n#==============================================================================\\n# Train\\n#==============================================================================              \\nmodel = deep_cnn(INPUT_SHAPE, NUM_CLASSES)\\nmodel.compile(optimizer='Adam', loss='categorical_crossentropy', metrics=['acc'])\\n\\ncallbacks = [EarlyStopping(monitor='val_acc', patience=4, verbose=1, mode='max')]\\n\\nhistory = model.fit_generator(generator=dsGen.generator(BATCH, mode='train'),\\n                              steps_per_epoch=int(np.ceil(len(dsGen.df_train)/BATCH)),\\n                              epochs=EPOCHS,\\n                              verbose=1,\\n                              callbacks=callbacks,\\n                              validation_data=dsGen.generator(BATCH, mode='val'),\\n                              validation_steps=int(np.ceil(len(dsGen.df_val)/BATCH)))\\n\\n#==============================================================================\\n# Predict\\n#==============================================================================\\ny_pred_proba = model.predict_generator(dsGen.generator(BATCH, mode='test'), \\n                                     int(np.ceil(len(dsGen.df_test)/BATCH)), \\n                                     verbose=1)\\ny_pred = np.argmax(y_pred_proba, axis=1)\\n\\ny_true = dsGen.df_test['label_id'].values\\n\\nacc_score = accuracy_score(y_true, y_pred)\\nprint(acc_score)\\n\""
      ]
     },
     "execution_count": 36,
     "metadata": {},
     "output_type": "execute_result"
    }
   ],
   "source": [
    "from models import deep, deep_cnn\n",
    "\n",
    "import numpy as np\n",
    "from sklearn.metrics import accuracy_score\n",
    "from keras.callbacks import EarlyStopping\n",
    "\n",
    "from dataset import DatasetGenerator\n",
    "\n",
    "DIR = \"/Users/RoseSamuel/SpeechRecog/speech_recognition/input/yes/*.wav\" # unzipped train and test data\n",
    "\n",
    "INPUT_SHAPE = (177,98,1)\n",
    "BATCH = 32\n",
    "EPOCHS = 15\n",
    "\n",
    "LABELS = 'yes no up'.split()\n",
    "NUM_CLASSES = len(LABELS)\n",
    "\n",
    "#==============================================================================\n",
    "# Prepare data      \n",
    "#==============================================================================\n",
    "dsGen = DatasetGenerator(label_set=LABELS) \n",
    "# Load DataFrame with paths/labels for training and validation data \n",
    "# and paths for testing data \n",
    "df = dsGen.load_data(DIR)\n",
    "\n",
    "print(df)\n",
    "\"\"\"\n",
    "dsGen.apply_train_test_split(test_size=0.3, random_state=2018)\n",
    "dsGen.apply_train_val_split(val_size=0.2, random_state=2018)\n",
    "\n",
    "#==============================================================================\n",
    "# Train\n",
    "#==============================================================================              \n",
    "model = deep_cnn(INPUT_SHAPE, NUM_CLASSES)\n",
    "model.compile(optimizer='Adam', loss='categorical_crossentropy', metrics=['acc'])\n",
    "\n",
    "callbacks = [EarlyStopping(monitor='val_acc', patience=4, verbose=1, mode='max')]\n",
    "\n",
    "history = model.fit_generator(generator=dsGen.generator(BATCH, mode='train'),\n",
    "                              steps_per_epoch=int(np.ceil(len(dsGen.df_train)/BATCH)),\n",
    "                              epochs=EPOCHS,\n",
    "                              verbose=1,\n",
    "                              callbacks=callbacks,\n",
    "                              validation_data=dsGen.generator(BATCH, mode='val'),\n",
    "                              validation_steps=int(np.ceil(len(dsGen.df_val)/BATCH)))\n",
    "\n",
    "#==============================================================================\n",
    "# Predict\n",
    "#==============================================================================\n",
    "y_pred_proba = model.predict_generator(dsGen.generator(BATCH, mode='test'), \n",
    "                                     int(np.ceil(len(dsGen.df_test)/BATCH)), \n",
    "                                     verbose=1)\n",
    "y_pred = np.argmax(y_pred_proba, axis=1)\n",
    "\n",
    "y_true = dsGen.df_test['label_id'].values\n",
    "\n",
    "acc_score = accuracy_score(y_true, y_pred)\n",
    "print(acc_score)\n",
    "\"\"\""
   ]
  },
  {
   "cell_type": "code",
   "execution_count": 18,
   "metadata": {},
   "outputs": [
    {
     "name": "stdout",
     "output_type": "stream",
     "text": [
      "/Users/RoseSamuel/SpeechRecog/speech_recognition\n"
     ]
    }
   ],
   "source": [
    "import os\n",
    "print(os.getcwd())"
   ]
  }
 ],
 "metadata": {
  "kernelspec": {
   "display_name": "Python 3",
   "language": "python",
   "name": "python3"
  },
  "language_info": {
   "codemirror_mode": {
    "name": "ipython",
    "version": 3
   },
   "file_extension": ".py",
   "mimetype": "text/x-python",
   "name": "python",
   "nbconvert_exporter": "python",
   "pygments_lexer": "ipython3",
   "version": "3.7.3"
  }
 },
 "nbformat": 4,
 "nbformat_minor": 2
}
